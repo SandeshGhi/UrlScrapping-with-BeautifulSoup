{
 "cells": [
  {
   "cell_type": "code",
   "execution_count": 1,
   "id": "5f475c6b-1da3-43d8-a664-0029b58db600",
   "metadata": {},
   "outputs": [],
   "source": [
    "#WEB SCRAPING "
   ]
  },
  {
   "cell_type": "code",
   "execution_count": 2,
   "id": "cd77afe5-a2a9-44f5-a4d4-fbd5b78dbd52",
   "metadata": {},
   "outputs": [],
   "source": [
    "import requests"
   ]
  },
  {
   "cell_type": "code",
   "execution_count": 3,
   "id": "8c9459b1-bda0-4345-93cc-6545f5156507",
   "metadata": {},
   "outputs": [],
   "source": [
    "url= \"https://upload.wikimedia.org/wikipedia/commons/thumb/2/2b/Jupiter_and_its_shrunken_Great_Red_Spot.jpg/220px-Jupiter_and_its_shrunken_Great_Red_Spot.jpg\"\n",
    "res= requests.get(url)"
   ]
  },
  {
   "cell_type": "code",
   "execution_count": 5,
   "id": "cddad456-3958-47b9-bac3-df3c51f28d08",
   "metadata": {},
   "outputs": [
    {
     "data": {
      "text/plain": [
       "200"
      ]
     },
     "execution_count": 5,
     "metadata": {},
     "output_type": "execute_result"
    }
   ],
   "source": [
    "res.status_code                  #http status"
   ]
  },
  {
   "cell_type": "code",
   "execution_count": 8,
   "id": "e245ef3d-e7fa-40c3-9f6c-badcd324f775",
   "metadata": {},
   "outputs": [],
   "source": [
    "#writing to a file"
   ]
  },
  {
   "cell_type": "code",
   "execution_count": 9,
   "id": "89577e85-16e1-4005-be6c-8f852b0f787a",
   "metadata": {},
   "outputs": [],
   "source": [
    "f= open(\"jupiter.png\", \"wb\")     #opening file in write & binary(wb) mode\n",
    "f.write(res.content)             #writing binary content on the reponse to the file\n",
    "f.close()                        #close the file"
   ]
  },
  {
   "cell_type": "code",
   "execution_count": null,
   "id": "9658fa57-ecbc-4de8-b81d-08cb0207225e",
   "metadata": {},
   "outputs": [],
   "source": []
  },
  {
   "cell_type": "code",
   "execution_count": null,
   "id": "46697d1b-d746-4b11-97e1-976e0f6f8251",
   "metadata": {},
   "outputs": [],
   "source": []
  },
  {
   "cell_type": "code",
   "execution_count": null,
   "id": "acdc1f13-9011-412c-8edf-5371f0836bfd",
   "metadata": {},
   "outputs": [],
   "source": []
  },
  {
   "cell_type": "code",
   "execution_count": null,
   "id": "802c201e-5ec7-49c9-b6ff-30e56e574a6f",
   "metadata": {},
   "outputs": [],
   "source": []
  },
  {
   "cell_type": "code",
   "execution_count": null,
   "id": "7a63ce24-5e79-4a2c-af14-679765b7c9ee",
   "metadata": {},
   "outputs": [],
   "source": []
  }
 ],
 "metadata": {
  "kernelspec": {
   "display_name": "Python 3 (ipykernel)",
   "language": "python",
   "name": "python3"
  },
  "language_info": {
   "codemirror_mode": {
    "name": "ipython",
    "version": 3
   },
   "file_extension": ".py",
   "mimetype": "text/x-python",
   "name": "python",
   "nbconvert_exporter": "python",
   "pygments_lexer": "ipython3",
   "version": "3.9.12"
  }
 },
 "nbformat": 4,
 "nbformat_minor": 5
}
