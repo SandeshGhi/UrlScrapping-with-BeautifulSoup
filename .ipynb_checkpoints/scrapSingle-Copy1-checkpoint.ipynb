{
 "cells": [
  {
   "cell_type": "code",
   "execution_count": 1,
   "id": "83577a0d-374c-41a8-9f5f-54fa73b6d6af",
   "metadata": {},
   "outputs": [],
   "source": [
    "import requests"
   ]
  },
  {
   "cell_type": "code",
   "execution_count": 2,
   "id": "3a7a62fb-d889-418a-b0ff-e59ff8187eb2",
   "metadata": {},
   "outputs": [],
   "source": [
    "from bs4 import BeautifulSoup"
   ]
  },
  {
   "cell_type": "code",
   "execution_count": null,
   "id": "79a81147-a212-4ad5-8e74-fd16c86ef208",
   "metadata": {},
   "outputs": [],
   "source": []
  },
  {
   "cell_type": "code",
   "execution_count": 3,
   "id": "6fc8098b-b5f0-401b-b17e-4405b431e4c2",
   "metadata": {},
   "outputs": [],
   "source": [
    "#creating GET request"
   ]
  },
  {
   "cell_type": "code",
   "execution_count": 4,
   "id": "411f7c2a-54e7-4d19-97ca-830e00613187",
   "metadata": {},
   "outputs": [],
   "source": [
    "url = \"https://www.goodreads.com/quotes/tag/{}\"   #url with placeholder for tag"
   ]
  },
  {
   "cell_type": "code",
   "execution_count": 5,
   "id": "5b81eca9-d557-41d3-81b0-481ba2cfb761",
   "metadata": {},
   "outputs": [
    {
     "data": {
      "text/plain": [
       "'https://www.goodreads.com/quotes/tag/inspirational'"
      ]
     },
     "execution_count": 5,
     "metadata": {},
     "output_type": "execute_result"
    }
   ],
   "source": [
    "url.format(\"inspirational\")                       #adding value to the placeholder"
   ]
  },
  {
   "cell_type": "code",
   "execution_count": 6,
   "id": "57321f55-87e8-41c1-9812-de2aa3cf7d5f",
   "metadata": {},
   "outputs": [],
   "source": [
    "res= requests.get(url)                           #get request and saving response to res"
   ]
  },
  {
   "cell_type": "code",
   "execution_count": 9,
   "id": "a51e69fa-5ea5-4948-a6f9-1ff30cd9b576",
   "metadata": {},
   "outputs": [],
   "source": [
    "#res.text                                        #texts from response"
   ]
  },
  {
   "cell_type": "code",
   "execution_count": 11,
   "id": "08d28d4c-db93-4c58-96db-0e5f616a3bdb",
   "metadata": {},
   "outputs": [],
   "source": [
    "soup= BeautifulSoup(res.text)                    #passting text to BS class to get BS Object which is traversable"
   ]
  },
  {
   "cell_type": "code",
   "execution_count": 12,
   "id": "16a41eaf-dd24-4f1e-8568-ae73a67db818",
   "metadata": {},
   "outputs": [
    {
     "data": {
      "text/plain": [
       "<title>Popular Quotes</title>"
      ]
     },
     "execution_count": 12,
     "metadata": {},
     "output_type": "execute_result"
    }
   ],
   "source": [
    "soup.title                                       #title of the page"
   ]
  },
  {
   "cell_type": "code",
   "execution_count": null,
   "id": "03bd48ca-c238-4727-bc48-25b5dca42eb7",
   "metadata": {},
   "outputs": [],
   "source": []
  },
  {
   "cell_type": "code",
   "execution_count": 14,
   "id": "f1f2ca58-9080-44e7-9ad1-cf4853cd0672",
   "metadata": {},
   "outputs": [],
   "source": [
    "links= soup.find_all(\"a\")                         #getting all anchor tage from the page"
   ]
  },
  {
   "cell_type": "code",
   "execution_count": 17,
   "id": "6bd0f014-43e5-444d-9517-04270a009332",
   "metadata": {},
   "outputs": [],
   "source": [
    "#dir(links[0])                                    #available functions  "
   ]
  },
  {
   "cell_type": "code",
   "execution_count": 73,
   "id": "6e01f636-6f6b-4505-8de6-2bed81e907f3",
   "metadata": {},
   "outputs": [],
   "source": [
    "quotes_divs= soup.find_all(\"div\", attrs={\"class\": \"quote\"})     #finding all the div where class is quote"
   ]
  },
  {
   "cell_type": "code",
   "execution_count": 74,
   "id": "ebed332f-2809-4f46-9c1f-529d5a4aa77f",
   "metadata": {},
   "outputs": [],
   "source": [
    "quote_div= quotes_divs[0]                         #single div"
   ]
  },
  {
   "cell_type": "code",
   "execution_count": 75,
   "id": "2953e413-312f-48c1-bc99-49ed9af03e87",
   "metadata": {},
   "outputs": [],
   "source": [
    "quoteText_div= quote_div.find_next(\"div\", attrs={\"class\": \"quoteText\"})    #getting div with quoteText class   "
   ]
  },
  {
   "cell_type": "code",
   "execution_count": 76,
   "id": "41f507e2-c70f-4aea-ba98-667fa2af24f0",
   "metadata": {},
   "outputs": [],
   "source": [
    "#here, find_all gives list of objects while find_next gives single object\n",
    "#we cannot get text from lists, we need single object"
   ]
  },
  {
   "cell_type": "code",
   "execution_count": 77,
   "id": "6f8c0a7a-6d9d-4cff-bdc3-20401ff9dfe3",
   "metadata": {},
   "outputs": [
    {
     "data": {
      "text/plain": [
       "<div class=\"quoteText\">\n",
       "      “Be yourself; everyone else is already taken.”\n",
       "  <br/>  ―\n",
       "  <span class=\"authorOrTitle\">\n",
       "    Oscar Wilde\n",
       "  </span>\n",
       "</div>"
      ]
     },
     "execution_count": 77,
     "metadata": {},
     "output_type": "execute_result"
    }
   ],
   "source": [
    "quoteText_div"
   ]
  },
  {
   "cell_type": "code",
   "execution_count": 78,
   "id": "cebde05a-ed8e-4f18-80a5-0eecc7e1bff7",
   "metadata": {},
   "outputs": [
    {
     "data": {
      "text/plain": [
       "'\\n      “Be yourself; everyone else is already taken.”\\n    ―\\n  \\n    Oscar Wilde\\n  \\n'"
      ]
     },
     "execution_count": 78,
     "metadata": {},
     "output_type": "execute_result"
    }
   ],
   "source": [
    "quoteText_div.text                               #texts from quoteText_div div"
   ]
  },
  {
   "cell_type": "code",
   "execution_count": 79,
   "id": "4a217320-7ff5-4cc0-986d-acc907d092d6",
   "metadata": {},
   "outputs": [
    {
     "data": {
      "text/plain": [
       "'“Be yourself; everyone else is already taken.”\\n    ―\\n  \\n    Oscar Wilde'"
      ]
     },
     "execution_count": 79,
     "metadata": {},
     "output_type": "execute_result"
    }
   ],
   "source": [
    "quoteText_div.text.strip()                       #strip will remove intitla and last spacing"
   ]
  },
  {
   "cell_type": "code",
   "execution_count": 80,
   "id": "c6e797fd-2a9b-4aaa-9f48-a073c9144a93",
   "metadata": {},
   "outputs": [],
   "source": [
    "stripped= quoteText_div.text.strip()             "
   ]
  },
  {
   "cell_type": "code",
   "execution_count": 81,
   "id": "dc208f02-627c-490c-b4d8-efad73e2a7ac",
   "metadata": {},
   "outputs": [],
   "source": [
    "stripped_li= stripped.split(\"\\n\")               #splitting texts with ref to \\n and saving to list"
   ]
  },
  {
   "cell_type": "code",
   "execution_count": 82,
   "id": "9c4c80cf-6ceb-471d-b16f-efc2a94f1ef3",
   "metadata": {},
   "outputs": [
    {
     "data": {
      "text/plain": [
       "['“Be yourself; everyone else is already taken.”',\n",
       " '    ―',\n",
       " '  ',\n",
       " '    Oscar Wilde']"
      ]
     },
     "execution_count": 82,
     "metadata": {},
     "output_type": "execute_result"
    }
   ],
   "source": [
    "stripped_li"
   ]
  },
  {
   "cell_type": "code",
   "execution_count": 83,
   "id": "67187591-42f2-4680-85c9-0c21214a88dc",
   "metadata": {},
   "outputs": [],
   "source": [
    "quote= stripped_li[0].strip()                         #first item of the list is quote\n",
    "author= stripped_li[-1].strip()                      #last item of the list is author"
   ]
  },
  {
   "cell_type": "code",
   "execution_count": 84,
   "id": "43b07240-ee2c-4817-8d91-6f5d935bbd6e",
   "metadata": {},
   "outputs": [
    {
     "data": {
      "text/plain": [
       "'“Be yourself; everyone else is already taken.”'"
      ]
     },
     "execution_count": 84,
     "metadata": {},
     "output_type": "execute_result"
    }
   ],
   "source": [
    "quote"
   ]
  },
  {
   "cell_type": "code",
   "execution_count": 85,
   "id": "d4eda22e-5110-46ba-b629-d7e4e30b7764",
   "metadata": {},
   "outputs": [
    {
     "data": {
      "text/plain": [
       "'Oscar Wilde'"
      ]
     },
     "execution_count": 85,
     "metadata": {},
     "output_type": "execute_result"
    }
   ],
   "source": [
    "author"
   ]
  },
  {
   "cell_type": "code",
   "execution_count": 86,
   "id": "9a5eb94b-ec0f-48d6-8f6b-e93110c8909c",
   "metadata": {},
   "outputs": [
    {
     "data": {
      "text/plain": [
       "'Be yourself; everyone else is already taken.'"
      ]
     },
     "execution_count": 86,
     "metadata": {},
     "output_type": "execute_result"
    }
   ],
   "source": [
    "quote[1:-1]                          # start from first char and exclude the last char to remove extra \" in text"
   ]
  },
  {
   "cell_type": "code",
   "execution_count": null,
   "id": "8fd49200-5337-4164-b677-287f92604999",
   "metadata": {},
   "outputs": [],
   "source": []
  },
  {
   "cell_type": "code",
   "execution_count": 87,
   "id": "e00480e7-15db-45dc-b56a-51b5edda670a",
   "metadata": {},
   "outputs": [],
   "source": [
    "#for tags"
   ]
  },
  {
   "cell_type": "code",
   "execution_count": 89,
   "id": "edf83f04-aa72-4481-8a8f-62b7ee0c9143",
   "metadata": {},
   "outputs": [],
   "source": [
    "left_div= quote_div.find_next(\"div\", attrs={\"class\": \"left\"})"
   ]
  },
  {
   "cell_type": "code",
   "execution_count": 90,
   "id": "384646de-08d3-412d-854e-71604695b72c",
   "metadata": {},
   "outputs": [
    {
     "data": {
      "text/plain": [
       "<div class=\"greyText smallText left\">\n",
       "     tags:\n",
       "       <a href=\"/quotes/tag/attributed-no-source\">attributed-no-source</a>,\n",
       "       <a href=\"/quotes/tag/be-yourself\">be-yourself</a>,\n",
       "       <a href=\"/quotes/tag/gilbert-perreira\">gilbert-perreira</a>,\n",
       "       <a href=\"/quotes/tag/honesty\">honesty</a>,\n",
       "       <a href=\"/quotes/tag/inspirational\">inspirational</a>,\n",
       "       <a href=\"/quotes/tag/misattributed-oscar-wilde\">misattributed-oscar-wilde</a>,\n",
       "       <a href=\"/quotes/tag/quote-investigator\">quote-investigator</a>\n",
       "</div>"
      ]
     },
     "execution_count": 90,
     "metadata": {},
     "output_type": "execute_result"
    }
   ],
   "source": [
    "left_div"
   ]
  },
  {
   "cell_type": "code",
   "execution_count": 92,
   "id": "9e38cd92-578f-43f9-8066-905c48bced4c",
   "metadata": {},
   "outputs": [],
   "source": [
    "tags= [tag.text for tag in left_div.find_all(\"a\")]     #get tags from anchor and add it to list"
   ]
  },
  {
   "cell_type": "code",
   "execution_count": 93,
   "id": "f9daca63-6129-4961-8d0c-a13b3e367b28",
   "metadata": {},
   "outputs": [
    {
     "data": {
      "text/plain": [
       "['attributed-no-source',\n",
       " 'be-yourself',\n",
       " 'gilbert-perreira',\n",
       " 'honesty',\n",
       " 'inspirational',\n",
       " 'misattributed-oscar-wilde',\n",
       " 'quote-investigator']"
      ]
     },
     "execution_count": 93,
     "metadata": {},
     "output_type": "execute_result"
    }
   ],
   "source": [
    "tags"
   ]
  },
  {
   "cell_type": "raw",
   "id": "3a931b22-ed90-4bd2-be9f-bf2b8d49dc1e",
   "metadata": {},
   "source": []
  },
  {
   "cell_type": "code",
   "execution_count": null,
   "id": "43a132f7-7a87-468e-b299-a231cb420331",
   "metadata": {},
   "outputs": [],
   "source": []
  },
  {
   "cell_type": "code",
   "execution_count": null,
   "id": "c043e052-da7e-4592-9ba3-b6c44ab398c3",
   "metadata": {},
   "outputs": [],
   "source": []
  },
  {
   "cell_type": "code",
   "execution_count": null,
   "id": "043d7455-68d9-4472-a9ba-d0c84273b51f",
   "metadata": {},
   "outputs": [],
   "source": [
    "for div in quotes_divs:\n",
    "    print(div.find_all(\"div\", attrs={\"class\": \"quoteText\"}))"
   ]
  }
 ],
 "metadata": {
  "kernelspec": {
   "display_name": "Python 3 (ipykernel)",
   "language": "python",
   "name": "python3"
  },
  "language_info": {
   "codemirror_mode": {
    "name": "ipython",
    "version": 3
   },
   "file_extension": ".py",
   "mimetype": "text/x-python",
   "name": "python",
   "nbconvert_exporter": "python",
   "pygments_lexer": "ipython3",
   "version": "3.9.12"
  }
 },
 "nbformat": 4,
 "nbformat_minor": 5
}
