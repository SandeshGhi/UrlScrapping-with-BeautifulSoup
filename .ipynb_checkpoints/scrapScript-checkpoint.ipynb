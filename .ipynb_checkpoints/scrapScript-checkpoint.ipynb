{
 "cells": [
  {
   "cell_type": "code",
   "execution_count": 107,
   "id": "83577a0d-374c-41a8-9f5f-54fa73b6d6af",
   "metadata": {},
   "outputs": [],
   "source": [
    "import requests"
   ]
  },
  {
   "cell_type": "code",
   "execution_count": 108,
   "id": "3a7a62fb-d889-418a-b0ff-e59ff8187eb2",
   "metadata": {},
   "outputs": [],
   "source": [
    "from bs4 import BeautifulSoup"
   ]
  },
  {
   "cell_type": "code",
   "execution_count": null,
   "id": "79a81147-a212-4ad5-8e74-fd16c86ef208",
   "metadata": {},
   "outputs": [],
   "source": []
  },
  {
   "cell_type": "code",
   "execution_count": null,
   "id": "6fc8098b-b5f0-401b-b17e-4405b431e4c2",
   "metadata": {},
   "outputs": [],
   "source": []
  },
  {
   "cell_type": "code",
   "execution_count": 111,
   "id": "411f7c2a-54e7-4d19-97ca-830e00613187",
   "metadata": {},
   "outputs": [],
   "source": [
    "url = \"https://www.goodreads.com/quotes/tag/{}?page={}\"   #url with placeholder for tag and pagenumber"
   ]
  },
  {
   "cell_type": "code",
   "execution_count": null,
   "id": "5b81eca9-d557-41d3-81b0-481ba2cfb761",
   "metadata": {},
   "outputs": [],
   "source": []
  },
  {
   "cell_type": "code",
   "execution_count": 112,
   "id": "1f875351-130e-4c2c-ac8a-ba3644ad9ee3",
   "metadata": {},
   "outputs": [],
   "source": [
    "def getQuotes(url):                                  #function to scrap quotes from url\n",
    "    res= requests.get(url)                           #get request and saving response to res\n",
    "\n",
    "    #res.text                                        #texts from response\n",
    "\n",
    "    soup= BeautifulSoup(res.text)                 #passting text to BS class to get BS Object which is traversable\n",
    "\n",
    "    links= soup.find_all(\"a\")                         #getting all anchor tage from the page\n",
    "\n",
    "    #dir(links[0])                                    #available functions  \n",
    "\n",
    "    quotes_divs= soup.find_all(\"div\", attrs={\"class\": \"quote\"})     #finding all the div where class is quote\n",
    "    \n",
    "    quotes= []\n",
    "\n",
    "    for quote_div in quotes_divs:\n",
    "\n",
    "        quoteText_div= quote_div.find_next(\"div\", attrs={\"class\": \"quoteText\"})#getting div with quoteText class   \n",
    "\n",
    "        #here, find_all gives list of objects while find_next gives single object\n",
    "        #we cannot get text from lists, we need single object\n",
    "\n",
    "        quoteText_div.text.strip()                       #strip will remove intitla and last spacing\n",
    "\n",
    "        stripped= quoteText_div.text.strip()             \n",
    "\n",
    "        stripped_li= stripped.split(\"\\n\")               #splitting texts with ref to \\n and saving to list\n",
    "\n",
    "        quote= stripped_li[0].strip()[1:-1]                  #first item of the list is quote\n",
    "        author= stripped_li[-1].strip()                      #last item of the list is author\n",
    "\n",
    "        #for tags\n",
    "\n",
    "        left_div= quote_div.find_next(\"div\", attrs={\"class\": \"left\"})\n",
    "\n",
    "        tags= [tag.text for tag in left_div.find_all(\"a\")]     #get tags from anchor and add it to list\n",
    "        \n",
    "        quote_item= {                                     #creating and adding in dictionary\n",
    "            \"text\": quote,\n",
    "            \"author\": author,\n",
    "            \"tags\": tags\n",
    "        }\n",
    "        quotes.append(quote_item)                        #adding to the list\n",
    "        \n",
    "    return quotes"
   ]
  },
  {
   "cell_type": "code",
   "execution_count": null,
   "id": "687104f5-e306-4095-8408-4003a978885a",
   "metadata": {},
   "outputs": [],
   "source": []
  },
  {
   "cell_type": "code",
   "execution_count": 113,
   "id": "0b2ddd53-c24b-48f9-93c3-698f05a2e6a4",
   "metadata": {},
   "outputs": [
    {
     "name": "stdout",
     "output_type": "stream",
     "text": [
      "processed: 1\n",
      "processed: 2\n",
      "processed: 3\n",
      "processed: 4\n",
      "processed: 5\n"
     ]
    }
   ],
   "source": [
    "total= []\n",
    "for i in range(1,6):                                      #scraping page 1 to 5\n",
    "    total.extend(getQuotes(url.format(\"love\", i)))\n",
    "    print(\"processed:\", i)"
   ]
  },
  {
   "cell_type": "code",
   "execution_count": 115,
   "id": "de6703bb-b630-4fa4-9454-6d3399a2e9e3",
   "metadata": {},
   "outputs": [
    {
     "data": {
      "text/plain": [
       "150"
      ]
     },
     "execution_count": 115,
     "metadata": {},
     "output_type": "execute_result"
    }
   ],
   "source": [
    "len(total)"
   ]
  },
  {
   "cell_type": "code",
   "execution_count": 1,
   "id": "b5b88988-1e17-485e-8f65-7b56f116ecc7",
   "metadata": {},
   "outputs": [],
   "source": [
    "#saving in CSV file"
   ]
  },
  {
   "cell_type": "code",
   "execution_count": 2,
   "id": "27b5900a-df1a-4e54-8a68-a55d92a1dd18",
   "metadata": {},
   "outputs": [],
   "source": [
    "import pandas as pd"
   ]
  },
  {
   "cell_type": "code",
   "execution_count": 3,
   "id": "c9077b13-09ae-427c-a8a8-bb6e739b64fa",
   "metadata": {},
   "outputs": [
    {
     "ename": "NameError",
     "evalue": "name 'total' is not defined",
     "output_type": "error",
     "traceback": [
      "\u001b[0;31m---------------------------------------------------------------------------\u001b[0m",
      "\u001b[0;31mNameError\u001b[0m                                 Traceback (most recent call last)",
      "Input \u001b[0;32mIn [3]\u001b[0m, in \u001b[0;36m<cell line: 1>\u001b[0;34m()\u001b[0m\n\u001b[0;32m----> 1\u001b[0m pd\u001b[38;5;241m.\u001b[39mDataFrame(\u001b[43mtotal\u001b[49m)\n",
      "\u001b[0;31mNameError\u001b[0m: name 'total' is not defined"
     ]
    }
   ],
   "source": [
    "pd.DataFrame(total)"
   ]
  },
  {
   "cell_type": "code",
   "execution_count": null,
   "id": "e31b05b2-6ce9-4874-8670-7b20fe522c0e",
   "metadata": {},
   "outputs": [],
   "source": []
  }
 ],
 "metadata": {
  "kernelspec": {
   "display_name": "Python 3 (ipykernel)",
   "language": "python",
   "name": "python3"
  },
  "language_info": {
   "codemirror_mode": {
    "name": "ipython",
    "version": 3
   },
   "file_extension": ".py",
   "mimetype": "text/x-python",
   "name": "python",
   "nbconvert_exporter": "python",
   "pygments_lexer": "ipython3",
   "version": "3.9.12"
  }
 },
 "nbformat": 4,
 "nbformat_minor": 5
}
