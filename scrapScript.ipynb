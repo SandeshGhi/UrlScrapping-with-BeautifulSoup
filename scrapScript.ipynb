{
 "cells": [
  {
   "cell_type": "code",
   "execution_count": 4,
   "id": "83577a0d-374c-41a8-9f5f-54fa73b6d6af",
   "metadata": {},
   "outputs": [],
   "source": [
    "import requests"
   ]
  },
  {
   "cell_type": "code",
   "execution_count": 5,
   "id": "3a7a62fb-d889-418a-b0ff-e59ff8187eb2",
   "metadata": {},
   "outputs": [],
   "source": [
    "from bs4 import BeautifulSoup"
   ]
  },
  {
   "cell_type": "code",
   "execution_count": null,
   "id": "79a81147-a212-4ad5-8e74-fd16c86ef208",
   "metadata": {},
   "outputs": [],
   "source": []
  },
  {
   "cell_type": "code",
   "execution_count": null,
   "id": "6fc8098b-b5f0-401b-b17e-4405b431e4c2",
   "metadata": {},
   "outputs": [],
   "source": []
  },
  {
   "cell_type": "code",
   "execution_count": 6,
   "id": "411f7c2a-54e7-4d19-97ca-830e00613187",
   "metadata": {},
   "outputs": [],
   "source": [
    "url = \"https://www.goodreads.com/quotes/tag/{}?page={}\"   #url with placeholder for tag and pagenumber"
   ]
  },
  {
   "cell_type": "code",
   "execution_count": null,
   "id": "5b81eca9-d557-41d3-81b0-481ba2cfb761",
   "metadata": {},
   "outputs": [],
   "source": []
  },
  {
   "cell_type": "code",
   "execution_count": 7,
   "id": "1f875351-130e-4c2c-ac8a-ba3644ad9ee3",
   "metadata": {},
   "outputs": [],
   "source": [
    "def getQuotes(url):                                  #function to scrap quotes from url\n",
    "    res= requests.get(url)                           #get request and saving response to res\n",
    "\n",
    "    #res.text                                        #texts from response\n",
    "\n",
    "    soup= BeautifulSoup(res.text)                 #passting text to BS class to get BS Object which is traversable\n",
    "\n",
    "    links= soup.find_all(\"a\")                         #getting all anchor tage from the page\n",
    "\n",
    "    #dir(links[0])                                    #available functions  \n",
    "\n",
    "    quotes_divs= soup.find_all(\"div\", attrs={\"class\": \"quote\"})     #finding all the div where class is quote\n",
    "    \n",
    "    quotes= []\n",
    "\n",
    "    for quote_div in quotes_divs:\n",
    "\n",
    "        quoteText_div= quote_div.find_next(\"div\", attrs={\"class\": \"quoteText\"})#getting div with quoteText class   \n",
    "\n",
    "        #here, find_all gives list of objects while find_next gives single object\n",
    "        #we cannot get text from lists, we need single object\n",
    "\n",
    "        quoteText_div.text.strip()                       #strip will remove intitla and last spacing\n",
    "\n",
    "        stripped= quoteText_div.text.strip()             \n",
    "\n",
    "        stripped_li= stripped.split(\"\\n\")               #splitting texts with ref to \\n and saving to list\n",
    "\n",
    "        quote= stripped_li[0].strip()[1:-1]                  #first item of the list is quote\n",
    "        author= stripped_li[-1].strip()                      #last item of the list is author\n",
    "\n",
    "        #for tags\n",
    "\n",
    "        left_div= quote_div.find_next(\"div\", attrs={\"class\": \"left\"})\n",
    "\n",
    "        tags= [tag.text for tag in left_div.find_all(\"a\")]     #get tags from anchor and add it to list\n",
    "        \n",
    "        quote_item= {                                     #creating and adding in dictionary\n",
    "            \"text\": quote,\n",
    "            \"author\": author,\n",
    "            \"tags\": tags\n",
    "        }\n",
    "        quotes.append(quote_item)                        #adding to the list\n",
    "        \n",
    "    return quotes"
   ]
  },
  {
   "cell_type": "code",
   "execution_count": null,
   "id": "687104f5-e306-4095-8408-4003a978885a",
   "metadata": {},
   "outputs": [],
   "source": []
  },
  {
   "cell_type": "code",
   "execution_count": 8,
   "id": "0b2ddd53-c24b-48f9-93c3-698f05a2e6a4",
   "metadata": {},
   "outputs": [
    {
     "name": "stdout",
     "output_type": "stream",
     "text": [
      "processed: 1\n",
      "processed: 2\n",
      "processed: 3\n",
      "processed: 4\n",
      "processed: 5\n"
     ]
    }
   ],
   "source": [
    "total= []\n",
    "for i in range(1,6):                                      #scraping page 1 to 5\n",
    "    total.extend(getQuotes(url.format(\"love\", i)))\n",
    "    print(\"processed:\", i)"
   ]
  },
  {
   "cell_type": "code",
   "execution_count": 9,
   "id": "de6703bb-b630-4fa4-9454-6d3399a2e9e3",
   "metadata": {},
   "outputs": [
    {
     "data": {
      "text/plain": [
       "150"
      ]
     },
     "execution_count": 9,
     "metadata": {},
     "output_type": "execute_result"
    }
   ],
   "source": [
    "len(total)"
   ]
  },
  {
   "cell_type": "code",
   "execution_count": 10,
   "id": "b5b88988-1e17-485e-8f65-7b56f116ecc7",
   "metadata": {},
   "outputs": [],
   "source": [
    "#saving in CSV file"
   ]
  },
  {
   "cell_type": "code",
   "execution_count": 11,
   "id": "27b5900a-df1a-4e54-8a68-a55d92a1dd18",
   "metadata": {},
   "outputs": [],
   "source": [
    "import pandas as pd"
   ]
  },
  {
   "cell_type": "code",
   "execution_count": 12,
   "id": "c9077b13-09ae-427c-a8a8-bb6e739b64fa",
   "metadata": {},
   "outputs": [
    {
     "data": {
      "text/html": [
       "<div>\n",
       "<style scoped>\n",
       "    .dataframe tbody tr th:only-of-type {\n",
       "        vertical-align: middle;\n",
       "    }\n",
       "\n",
       "    .dataframe tbody tr th {\n",
       "        vertical-align: top;\n",
       "    }\n",
       "\n",
       "    .dataframe thead th {\n",
       "        text-align: right;\n",
       "    }\n",
       "</style>\n",
       "<table border=\"1\" class=\"dataframe\">\n",
       "  <thead>\n",
       "    <tr style=\"text-align: right;\">\n",
       "      <th></th>\n",
       "      <th>text</th>\n",
       "      <th>author</th>\n",
       "      <th>tags</th>\n",
       "    </tr>\n",
       "  </thead>\n",
       "  <tbody>\n",
       "    <tr>\n",
       "      <th>0</th>\n",
       "      <td>I'm selfish, impatient and a little insecure. ...</td>\n",
       "      <td>Marilyn Monroe</td>\n",
       "      <td>[attributed-no-source, best, life, love, mista...</td>\n",
       "    </tr>\n",
       "    <tr>\n",
       "      <th>1</th>\n",
       "      <td>You've gotta dance like there's nobody watchin...</td>\n",
       "      <td>William W. Purkey</td>\n",
       "      <td>[dance, heaven, hurt, inspirational, life, lov...</td>\n",
       "    </tr>\n",
       "    <tr>\n",
       "      <th>2</th>\n",
       "      <td>You know you're in love when you can't fall as...</td>\n",
       "      <td>Dr. Seuss</td>\n",
       "      <td>[attributed-no-source, dreams, love, reality, ...</td>\n",
       "    </tr>\n",
       "    <tr>\n",
       "      <th>3</th>\n",
       "      <td>A friend is someone who knows all about you an...</td>\n",
       "      <td>Elbert Hubbard</td>\n",
       "      <td>[friend, friendship, knowledge, love]</td>\n",
       "    </tr>\n",
       "    <tr>\n",
       "      <th>4</th>\n",
       "      <td>Darkness cannot drive out darkness: only light...</td>\n",
       "      <td>A Testament of Hope: The Essential Writings an...</td>\n",
       "      <td>[darkness, drive-out, hate, inspirational, lig...</td>\n",
       "    </tr>\n",
       "    <tr>\n",
       "      <th>...</th>\n",
       "      <td>...</td>\n",
       "      <td>...</td>\n",
       "      <td>...</td>\n",
       "    </tr>\n",
       "    <tr>\n",
       "      <th>145</th>\n",
       "      <td>What's this?\" he demanded, looking from Clary ...</td>\n",
       "      <td>City of Bones</td>\n",
       "      <td>[humor, jace, love, mortal-instruments]</td>\n",
       "    </tr>\n",
       "    <tr>\n",
       "      <th>146</th>\n",
       "      <td>Do you think I'm pretty?I think you're beautif...</td>\n",
       "      <td>Vampire Academy</td>\n",
       "      <td>[beauty, love]</td>\n",
       "    </tr>\n",
       "    <tr>\n",
       "      <th>147</th>\n",
       "      <td>I love you. Remember. They cannot take it</td>\n",
       "      <td>Delirium</td>\n",
       "      <td>[amor-deliria-nervosa, love]</td>\n",
       "    </tr>\n",
       "    <tr>\n",
       "      <th>148</th>\n",
       "      <td>What is hell? I maintain that it is the suffer...</td>\n",
       "      <td>The Brothers Karamazov</td>\n",
       "      <td>[hell, love, suffering]</td>\n",
       "    </tr>\n",
       "    <tr>\n",
       "      <th>149</th>\n",
       "      <td>All I ever wanted was to reach out and touch a...</td>\n",
       "      <td>Shatter Me</td>\n",
       "      <td>[compassion, empathy, loneliness, love]</td>\n",
       "    </tr>\n",
       "  </tbody>\n",
       "</table>\n",
       "<p>150 rows × 3 columns</p>\n",
       "</div>"
      ],
      "text/plain": [
       "                                                  text  \\\n",
       "0    I'm selfish, impatient and a little insecure. ...   \n",
       "1    You've gotta dance like there's nobody watchin...   \n",
       "2    You know you're in love when you can't fall as...   \n",
       "3    A friend is someone who knows all about you an...   \n",
       "4    Darkness cannot drive out darkness: only light...   \n",
       "..                                                 ...   \n",
       "145  What's this?\" he demanded, looking from Clary ...   \n",
       "146  Do you think I'm pretty?I think you're beautif...   \n",
       "147          I love you. Remember. They cannot take it   \n",
       "148  What is hell? I maintain that it is the suffer...   \n",
       "149  All I ever wanted was to reach out and touch a...   \n",
       "\n",
       "                                                author  \\\n",
       "0                                       Marilyn Monroe   \n",
       "1                                    William W. Purkey   \n",
       "2                                            Dr. Seuss   \n",
       "3                                       Elbert Hubbard   \n",
       "4    A Testament of Hope: The Essential Writings an...   \n",
       "..                                                 ...   \n",
       "145                                      City of Bones   \n",
       "146                                    Vampire Academy   \n",
       "147                                           Delirium   \n",
       "148                             The Brothers Karamazov   \n",
       "149                                         Shatter Me   \n",
       "\n",
       "                                                  tags  \n",
       "0    [attributed-no-source, best, life, love, mista...  \n",
       "1    [dance, heaven, hurt, inspirational, life, lov...  \n",
       "2    [attributed-no-source, dreams, love, reality, ...  \n",
       "3                [friend, friendship, knowledge, love]  \n",
       "4    [darkness, drive-out, hate, inspirational, lig...  \n",
       "..                                                 ...  \n",
       "145            [humor, jace, love, mortal-instruments]  \n",
       "146                                     [beauty, love]  \n",
       "147                       [amor-deliria-nervosa, love]  \n",
       "148                            [hell, love, suffering]  \n",
       "149            [compassion, empathy, loneliness, love]  \n",
       "\n",
       "[150 rows x 3 columns]"
      ]
     },
     "execution_count": 12,
     "metadata": {},
     "output_type": "execute_result"
    }
   ],
   "source": [
    "pd.DataFrame(total)"
   ]
  },
  {
   "cell_type": "code",
   "execution_count": 15,
   "id": "e31b05b2-6ce9-4874-8670-7b20fe522c0e",
   "metadata": {},
   "outputs": [],
   "source": [
    "df= pd.DataFrame(total)                            #creating dataframe of data"
   ]
  },
  {
   "cell_type": "code",
   "execution_count": 16,
   "id": "3fa491e1-0bd1-455d-ae07-96698363dab8",
   "metadata": {},
   "outputs": [],
   "source": [
    "df.to_csv(\"quotesScrap.csv\", index=None)           #saving to csv with index none for no extra index"
   ]
  },
  {
   "cell_type": "code",
   "execution_count": null,
   "id": "f0ecb646-765f-4f38-b84d-eb40e29cefc1",
   "metadata": {},
   "outputs": [],
   "source": []
  }
 ],
 "metadata": {
  "kernelspec": {
   "display_name": "Python 3 (ipykernel)",
   "language": "python",
   "name": "python3"
  },
  "language_info": {
   "codemirror_mode": {
    "name": "ipython",
    "version": 3
   },
   "file_extension": ".py",
   "mimetype": "text/x-python",
   "name": "python",
   "nbconvert_exporter": "python",
   "pygments_lexer": "ipython3",
   "version": "3.9.12"
  }
 },
 "nbformat": 4,
 "nbformat_minor": 5
}
